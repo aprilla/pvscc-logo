{
 "nbformat": 4,
 "nbformat_minor": 2,
 "metadata": {
  "language_info": {
   "name": "python",
   "codemirror_mode": {
    "name": "ipython",
    "version": 3
   }
  },
  "orig_nbformat": 2,
  "file_extension": ".py",
  "mimetype": "text/x-python",
  "name": "python",
  "npconvert_exporter": "python",
  "pygments_lexer": "ipython3",
  "version": 3
 },
 "cells": [
  {
   "cell_type": "markdown",
   "metadata": {},
   "source": [
    "# Generating Logo for PVSC"
   ]
  },
  {
   "cell_type": "code",
   "execution_count": null,
   "metadata": {},
   "outputs": [],
   "source": [
    "import requests\n",
    "# from https://medium.com/@jorlugaqui/how-to-strip-html-tags-from-a-string-in-python-7cb81a2bbf44\n",
    "def remove_html_tags(text):\n",
    "    \"\"\"Remove html tags from a string\"\"\"\n",
    "    import re\n",
    "    clean = re.compile('(<.*?>)|\\\\n|\\\\r|\\\\t')\n",
    "    return re.sub(clean, '', text)\n",
    "\n",
    "r = requests.get(url=\"https://code.visualstudio.com/docs/python/python-tutorial\")\n",
    "raw_content = r.content.decode(\"utf-8\")\n",
    "\n",
    "clean_raw_content = remove_html_tags(raw_content)\n",
    "print(clean_raw_content)"
   ]
  }
 ]
}